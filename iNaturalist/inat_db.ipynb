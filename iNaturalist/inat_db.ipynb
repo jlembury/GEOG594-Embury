{
 "cells": [
  {
   "cell_type": "code",
   "execution_count": 69,
   "metadata": {},
   "outputs": [],
   "source": [
    "import requests\n",
    "import os\n",
    "import glob\n",
    "import psycopg2\n",
    "import sys\n",
    "\n",
    "import pandas as pd\n",
    "import matplotlib.pyplot as plt\n",
    "from matplotlib import animation"
   ]
  },
  {
   "cell_type": "code",
   "execution_count": null,
   "metadata": {},
   "outputs": [],
   "source": [
    "#directory where this file is located\n",
    "csv_path = 'C:/temp/observations.csv'\n",
    "\n",
    "#for database \n",
    "host = '127.0.0.1'\n",
    "db = '594inat'\n",
    "user = 'jessemb'\n",
    "password = 'R0s3bud785'\n",
    "\n",
    "schema_name = 'public'"
   ]
  },
  {
   "cell_type": "code",
   "execution_count": null,
   "metadata": {},
   "outputs": [],
   "source": [
    "#function for psycopg2 to connect to the PostgreSQL database server\n",
    "#reference: https://github.com/NaysanSaran/pandas2postgresql/blob/master/notebooks/CompleteExample.ipynb\n",
    "def connect(params_dic):\n",
    "    \"\"\" Connect to the PostgreSQL database server \"\"\"\n",
    "    conn = None\n",
    "    try:\n",
    "        # connect to the PostgreSQL server\n",
    "        print('Connecting to the PostgreSQL database...')\n",
    "        conn = psycopg2.connect(**params_dic)\n",
    "\n",
    "    except (Exception, psycopg2.DatabaseError) as error:\n",
    "        print(error)\n",
    "        sys.exit(1) \n",
    "    return conn"
   ]
  },
  {
   "cell_type": "code",
   "execution_count": null,
   "metadata": {},
   "outputs": [],
   "source": [
    "#CONNECT TO DATABASE\n",
    "\n",
    "#specify the psql connection parameters\n",
    "param_dic = {\n",
    "    \"host\"      : host,\n",
    "    \"database\"  : db,\n",
    "    \"user\"      : user,\n",
    "    \"password\"  : password\n",
    "}\n",
    "\n",
    "#connect to the database server\n",
    "conn = connect(param_dic)\n",
    "\n",
    "#define the cursor\n",
    "cur = conn.cursor()"
   ]
  },
  {
   "cell_type": "code",
   "execution_count": null,
   "metadata": {},
   "outputs": [],
   "source": [
    "#populate table from csv\n",
    "#reference: https://www.mydatahack.com/how-to-bulk-load-data-into-postgresql-with-python/\n",
    "'''\n",
    "f = open(csv_path, encoding=\"utf8\")\n",
    "\n",
    "try:\n",
    "    cur.execute(\"set client_encoding='utf8';\")\n",
    "    cur.copy_expert(\"copy observations from STDIN CSV HEADER QUOTE '\\\"'\", f)\n",
    "    print('Table populated.')\n",
    "except Exception as e:\n",
    "    print(\"Error. Database not populated.\")\n",
    "    print(e)\n",
    "                  \n",
    "#commit database changes\n",
    "conn.commit()\n",
    "'''"
   ]
  },
  {
   "cell_type": "code",
   "execution_count": null,
   "metadata": {},
   "outputs": [],
   "source": [
    "#COMMIT AND CLOSE DATABASE\n",
    "#commit changes to the database\n",
    "conn.commit()\n",
    "\n",
    "#close the database connection\n",
    "conn.close()\n",
    "\n",
    "#close the cursor\n",
    "cur.close()"
   ]
  },
  {
   "cell_type": "code",
   "execution_count": null,
   "metadata": {},
   "outputs": [],
   "source": []
  },
  {
   "cell_type": "code",
   "execution_count": null,
   "metadata": {},
   "outputs": [],
   "source": [
    "users = cur.execute(\"select * from obs_by_user_us2018;\")\n",
    "tuples = cur.fetchall()\n",
    "users_df = pd.DataFrame(tuples, columns={'user', 'num_obs'})"
   ]
  },
  {
   "cell_type": "code",
   "execution_count": null,
   "metadata": {},
   "outputs": [],
   "source": [
    "print(len(users_df))\n",
    "users_df.head()"
   ]
  },
  {
   "cell_type": "code",
   "execution_count": null,
   "metadata": {},
   "outputs": [],
   "source": [
    "users_df['max_distance'] = -1.0\n",
    "users_df.head()"
   ]
  },
  {
   "cell_type": "code",
   "execution_count": null,
   "metadata": {
    "scrolled": false
   },
   "outputs": [],
   "source": [
    "obs = cur.execute(\"select naturalistlogin, decimalLatitude, decimalLongitude from obs_us_2018 where naturalistlogin='_kingsloth-tarichalover_';\")\n",
    "tuples = cur.fetchall()\n",
    "obs_df = pd.DataFrame(tuples, columns={'user', 'lat', 'lon'})\n",
    "obs_df"
   ]
  },
  {
   "cell_type": "code",
   "execution_count": null,
   "metadata": {},
   "outputs": [],
   "source": [
    "obs_df=obs_df.rename(columns={'lat':'login', 'user':'lat'})\n",
    "obs_df['dist'] = -1.0\n",
    "obs_df.head()"
   ]
  },
  {
   "cell_type": "code",
   "execution_count": null,
   "metadata": {},
   "outputs": [],
   "source": [
    "for i,row in obs_df.iterrows():\n",
    "    for j,row in obs_df.iterrows():\n",
    "        query = cur.execute(\"select ST_Distance('POINT({} {})'::geometry, 'POINT({} {})'::geometry);\".format(obs_df.lon[i], obs_df.lat[i], obs_df.lon[j], obs_df.lat[j]))\n",
    "        result = cur.fetchall()\n",
    "        distance = float(list(result[0])[0])\n",
    "        print(obs_df.dist[i])\n",
    "        if distance > obs_df.dist[i]:\n",
    "            obs_df.dist[i] = distance"
   ]
  },
  {
   "cell_type": "code",
   "execution_count": null,
   "metadata": {},
   "outputs": [],
   "source": []
  },
  {
   "cell_type": "code",
   "execution_count": null,
   "metadata": {},
   "outputs": [],
   "source": [
    "for i,row in users_df.iterrows():\n",
    "    login = users_df.user[i]\n",
    "    print(i)\n",
    "    print(login)\n",
    "    \n",
    "    obs = cur.execute(\"select naturalistlogin, decimalLatitude, decimalLongitude from obs_us_2018 where naturalistlogin='{}';\".format(login))\n",
    "    tuples = cur.fetchall()\n",
    "    obs_df = pd.DataFrame(tuples, columns={'user', 'lat', 'lon'})\n",
    "    obs_df=obs_df.rename(columns={'lat':'login', 'user':'lat'})\n",
    "    obs_df['dist'] = -1.0\n",
    "    \n",
    "    for j,row in obs_df.iterrows():\n",
    "        for k,row in obs_df.iterrows():\n",
    "            query = cur.execute(\"select ST_Distance('SRID=4326;POINT({} {})'::geometry, 'SRID=4326;POINT({} {})'::geometry);\".format(obs_df.lon[j], obs_df.lat[j], obs_df.lon[k], obs_df.lat[k]))\n",
    "            result = cur.fetchall()\n",
    "            distance = float(list(result[0])[0])\n",
    "            if distance > obs_df.dist[j]:\n",
    "                obs_df.dist[j] = distance\n",
    "    \n",
    "    max_dist = obs_df['dist'].max()\n",
    "    users_df['max_distance'][i] = max_dist\n",
    "    "
   ]
  },
  {
   "cell_type": "code",
   "execution_count": null,
   "metadata": {},
   "outputs": [],
   "source": [
    "users_df.head(100)"
   ]
  },
  {
   "cell_type": "code",
   "execution_count": null,
   "metadata": {},
   "outputs": [],
   "source": [
    "#COMMIT AND CLOSE DATABASE\n",
    "#commit changes to the database\n",
    "#conn.commit()\n",
    "\n",
    "#close the database connection\n",
    "conn.close()\n",
    "\n",
    "#close the cursor\n",
    "cur.close()"
   ]
  },
  {
   "cell_type": "code",
   "execution_count": null,
   "metadata": {},
   "outputs": [],
   "source": [
    "# get csv with 2+ obs\n",
    "obs = pd.read_csv('C:/temp/inat/us2018_user_summary.csv')\n",
    "print(len(obs))\n",
    "obs.head()"
   ]
  },
  {
   "cell_type": "code",
   "execution_count": null,
   "metadata": {},
   "outputs": [],
   "source": [
    "obs_one = obs.query('num_obs == 1')\n",
    "print(len(obs_one))\n",
    "obs_one.head()"
   ]
  },
  {
   "cell_type": "code",
   "execution_count": null,
   "metadata": {},
   "outputs": [],
   "source": [
    "obs_twoplus = obs.query('num_obs != 1')\n",
    "print(len(obs_twoplus))\n",
    "obs_twoplus.head()"
   ]
  },
  {
   "cell_type": "code",
   "execution_count": null,
   "metadata": {},
   "outputs": [],
   "source": [
    "obs_twoplus.to_csv('C:/temp/inat/us2018_user_summary_2plusobs.csv', index=False)"
   ]
  },
  {
   "cell_type": "code",
   "execution_count": null,
   "metadata": {},
   "outputs": [],
   "source": [
    "print(obs_twoplus['num_obs'].mean())\n",
    "print(obs_twoplus['num_obs'].max())"
   ]
  },
  {
   "cell_type": "code",
   "execution_count": null,
   "metadata": {},
   "outputs": [],
   "source": [
    "print(obs_twoplus['max_obs_centroid_dist'].mean())\n",
    "print(obs_twoplus['mean_obs_centroid_dist'].mean())\n",
    "print(obs_twoplus['std_obs_centroid_dist'].mean())"
   ]
  },
  {
   "cell_type": "code",
   "execution_count": null,
   "metadata": {},
   "outputs": [],
   "source": [
    "print(obs.sum())\n",
    "print(obs_twoplus.sum())"
   ]
  },
  {
   "cell_type": "code",
   "execution_count": null,
   "metadata": {},
   "outputs": [],
   "source": [
    "t2014 = pd.read_csv('C:/temp/inat/user_summaries/us2014_user_summary.csv')\n",
    "t2015 = pd.read_csv('C:/temp/inat/user_summaries/us2015_user_summary.csv')\n",
    "t2016 = pd.read_csv('C:/temp/inat/user_summaries/us2016_user_summary.csv')\n",
    "t2017 = pd.read_csv('C:/temp/inat/user_summaries/us2017_user_summary.csv')\n",
    "t2018 = pd.read_csv('C:/temp/inat/user_summaries/us2018_user_summary.csv')\n",
    "t2019 = pd.read_csv('C:/temp/inat/user_summaries/us2019_user_summary.csv')\n",
    "t2020 = pd.read_csv('C:/temp/inat/user_summaries/us2020_user_summary.csv')"
   ]
  },
  {
   "cell_type": "code",
   "execution_count": null,
   "metadata": {},
   "outputs": [],
   "source": [
    "t2014.head()"
   ]
  },
  {
   "cell_type": "code",
   "execution_count": null,
   "metadata": {},
   "outputs": [],
   "source": [
    "df = pd.DataFrame(columns = ['year', 'num_users', 'num_obs', 'num_users_2+', 'num_obs_2+', 'per_users_2+', 'per_obs_2+', 'mean_centroid_obs_dist', 'mean_centroid_obs_dist_2+'])\n",
    "df.head()"
   ]
  },
  {
   "cell_type": "code",
   "execution_count": null,
   "metadata": {},
   "outputs": [],
   "source": []
  },
  {
   "cell_type": "code",
   "execution_count": null,
   "metadata": {},
   "outputs": [],
   "source": [
    "df = df.append({'num_users':len(t2020), 'year':'2020',\n",
    "          'num_obs':t2020['num_obs'].sum(), \n",
    "          'mean_centroid_obs_dist':t2020['mean_obs_centroid_dist'].mean(), \n",
    "             }, ignore_index=True)\n",
    "\n",
    "df['num_users_2+'][6] = len(t2020.query('num_obs != 1'))\n",
    "df['per_users_2+'][6] = len((t2020).query('num_obs != 1'))/len(t2020)*100\n",
    "df['num_obs_2+'][6] = t2020.query('num_obs != 1')['num_obs'].sum()\n",
    "df['per_obs_2+'][6] = t2020.query('num_obs != 1')['num_obs'].sum()/t2020['num_obs'].sum()*100\n",
    "df['mean_centroid_obs_dist_2+'][6] = t2020.query('num_obs != 1')['mean_obs_centroid_dist'].mean()\n",
    "\n",
    "df"
   ]
  },
  {
   "cell_type": "code",
   "execution_count": 70,
   "metadata": {},
   "outputs": [],
   "source": [
    "df.to_csv('C:/temp/inat/user_summaries/user_statistics_2014_2020.csv', index=False)"
   ]
  },
  {
   "cell_type": "code",
   "execution_count": null,
   "metadata": {},
   "outputs": [],
   "source": []
  },
  {
   "cell_type": "code",
   "execution_count": null,
   "metadata": {},
   "outputs": [],
   "source": [
    "# inat visualizations\n",
    "import matplotlib.pyplot as plt\n",
    "from matplotlib.animation as animation\n",
    "%matplotlib notebook"
   ]
  },
  {
   "cell_type": "code",
   "execution_count": null,
   "metadata": {},
   "outputs": [],
   "source": [
    "colors = ['gold', 'yellowgreen', 'lightcoral', 'lightskyblue', 'limegreen', \n",
    "          'red', 'navy', 'blue', 'magenta', 'crimson']\n",
    "explode = (0.01, 0.01, 0.01, 0.01, 0.01, 0.01, 0.01, 0.01, 0.01, .01)\n",
    "labels = ['0', '1', '2', '3', '4', '5', '6', '7', '8', '9']\n",
    "nums = [0, 0, 0, 0, 0, 0, 0, 0, 0, 0]\n",
    "\n",
    "fig, ax = plt.subplots()\n",
    "\n",
    "def update(num):\n",
    "    ax.clear()\n",
    "    ax.axis('equal')\n",
    "    str_num = str(num)\n",
    "    for x in range(10):\n",
    "        nums[x] += str_num.count(str(x))\n",
    "    ax.pie(nums, explode=explode, labels=labels, colors=colors, \n",
    "            autopct='%1.1f%%', shadow=True, startangle=140)\n",
    "    ax.set_title(str_num)\n",
    "\n",
    "ani = FuncAnimation(fig, update, frames=range(100), repeat=False)\n",
    "plt.show()\n",
    "\n",
    "#####\n",
    "# Pie chart, where the slices will be ordered and plotted counter-clockwise:\n",
    "labels = 'Frogs', 'Hogs', 'Dogs', 'Logs'\n",
    "sizes = [15, 30, 45, 10]\n",
    "explode = (0, 0.1, 0, 0)  # only \"explode\" the 2nd slice (i.e. 'Hogs')\n",
    "\n",
    "fig1, ax1 = plt.subplots()\n",
    "ax1.pie(sizes, explode=explode, labels=labels, autopct='%1.1f%%',\n",
    "        shadow=True, startangle=90)\n",
    "ax1.axis('equal')  # Equal aspect ratio ensures that pie is drawn as a circle.\n",
    "\n",
    "plt.show()"
   ]
  },
  {
   "cell_type": "code",
   "execution_count": null,
   "metadata": {},
   "outputs": [],
   "source": [
    "labels = 'Single Observation', '2+ Observations'\n",
    "sizes = [df['num_users'][0] - df['num_users_2+'][0], df['num_users_2+'][0]]\n",
    "colors = ['gold', 'lightskyblue']\n",
    "\n",
    "fig1, ax1 = plt.subplots()\n",
    "ax1.pie(sizes, labels=labels, colors=colors, autopct='%1.1f%%',\n",
    "        shadow=True, startangle=90)\n",
    "ax1.axis('equal')  # Equal aspect ratio ensures that pie is drawn as a circle.\n",
    "\n",
    "plt.title('iNaturalist Users by Observation Type\\n{} Users in {}'.format(df['num_users'][0], df['year'][0]))\n",
    "\n",
    "plt.show()"
   ]
  },
  {
   "cell_type": "code",
   "execution_count": null,
   "metadata": {},
   "outputs": [],
   "source": [
    "fig, ax = plt.subplots()\n",
    "\n",
    "def animate_piechart():\n",
    "    ax.clear()\n",
    "    ax.axis('equal')\n",
    "    \n",
    "    for i, row in df.iterrows():\n",
    "        labels = 'Single Observation', '2+ Observations'\n",
    "        sizes = [df['num_users'][i] - df['num_users_2+'][i], df['num_users_2+'][i]]\n",
    "        colors = ['gold', 'lightskyblue']\n",
    "        plt.title('iNaturalist Users by Observation Type\\n{} Users in {}'.format(df['num_users'][i], df['year'][i]))\n",
    "\n",
    "    ax1.pie(sizes, labels=labels, colors=colors, autopct='%1.1f%%',\n",
    "        shadow=True, startangle=90)\n",
    "    ax1.axis('equal')  # Equal aspect ratio ensures that pie is drawn as a circle.\n",
    "\n",
    "ani = FuncAnimation(fig, animate_piechart, frames=range(7), repeat=False)\n",
    "plt.show()"
   ]
  },
  {
   "cell_type": "code",
   "execution_count": null,
   "metadata": {},
   "outputs": [],
   "source": [
    "import matplotlib.pyplot as plt\n",
    "from matplotlib import animation\n",
    "\n",
    "def animate(i):\n",
    "    plt.axis('equal')\n",
    "    plt.tight_layout()\n",
    "    labels = ['Wibbly', 'Wobbly', 'Woo']\n",
    "    colors = ['red', 'blue', 'green']\n",
    "    sizes[0] -= 1\n",
    "    sizes[1] += 1\n",
    "    sizes[2] += 0.5\n",
    "    patches, texts = plt.pie(sizes, colors=colors, startangle=90)\n",
    "    plt.legend(patches, labels, loc=\"best\")\n",
    "    return patches,\n",
    "\n",
    "sizes = [50, 0, 10]\n",
    "fig = plt.figure()\n",
    "\n",
    "anim = animation.FuncAnimation(fig, animate, frames=40, repeat = False)\n",
    "plt.show()"
   ]
  },
  {
   "cell_type": "code",
   "execution_count": 71,
   "metadata": {
    "scrolled": true
   },
   "outputs": [
    {
     "data": {
      "text/html": [
       "<div>\n",
       "<style scoped>\n",
       "    .dataframe tbody tr th:only-of-type {\n",
       "        vertical-align: middle;\n",
       "    }\n",
       "\n",
       "    .dataframe tbody tr th {\n",
       "        vertical-align: top;\n",
       "    }\n",
       "\n",
       "    .dataframe thead th {\n",
       "        text-align: right;\n",
       "    }\n",
       "</style>\n",
       "<table border=\"1\" class=\"dataframe\">\n",
       "  <thead>\n",
       "    <tr style=\"text-align: right;\">\n",
       "      <th></th>\n",
       "      <th>2+ Observations</th>\n",
       "      <th>Single Observation</th>\n",
       "    </tr>\n",
       "    <tr>\n",
       "      <th>year</th>\n",
       "      <th></th>\n",
       "      <th></th>\n",
       "    </tr>\n",
       "  </thead>\n",
       "  <tbody>\n",
       "    <tr>\n",
       "      <th>2014</th>\n",
       "      <td>6015.0</td>\n",
       "      <td>2983</td>\n",
       "    </tr>\n",
       "    <tr>\n",
       "      <th>2015</th>\n",
       "      <td>8932.0</td>\n",
       "      <td>4275</td>\n",
       "    </tr>\n",
       "    <tr>\n",
       "      <th>2016</th>\n",
       "      <td>17115.0</td>\n",
       "      <td>8283</td>\n",
       "    </tr>\n",
       "    <tr>\n",
       "      <th>2017</th>\n",
       "      <td>19733.0</td>\n",
       "      <td>8554</td>\n",
       "    </tr>\n",
       "    <tr>\n",
       "      <th>2018</th>\n",
       "      <td>30376.0</td>\n",
       "      <td>12122</td>\n",
       "    </tr>\n",
       "  </tbody>\n",
       "</table>\n",
       "</div>"
      ],
      "text/plain": [
       "      2+ Observations Single Observation\n",
       "year                                    \n",
       "2014           6015.0               2983\n",
       "2015           8932.0               4275\n",
       "2016          17115.0               8283\n",
       "2017          19733.0               8554\n",
       "2018          30376.0              12122"
      ]
     },
     "execution_count": 71,
     "metadata": {},
     "output_type": "execute_result"
    }
   ],
   "source": [
    "users = df[['year', 'num_users', 'num_users_2+']]\n",
    "users = users.set_index('year')\n",
    "users['Single Observation'] = users['num_users'] - users['num_users_2+']\n",
    "users = users.rename(columns = {'num_users_2+':'2+ Observations'})\n",
    "del users['num_users']\n",
    "users.head()\n"
   ]
  },
  {
   "cell_type": "code",
   "execution_count": null,
   "metadata": {
    "scrolled": true
   },
   "outputs": [],
   "source": []
  },
  {
   "cell_type": "code",
   "execution_count": 73,
   "metadata": {},
   "outputs": [
    {
     "data": {
      "image/png": "[encoded data removed]",
      "text/plain": [
       "<Figure size 432x288 with 1 Axes>"
      ]
     },
     "metadata": {
      "needs_background": "light"
     },
     "output_type": "display_data"
    }
   ],
   "source": [
    "import numpy as np\n",
    "import matplotlib.pyplot as plt\n",
    "fig,ax = plt.subplots()\n",
    "explode=[0.01,0.01,0.01,0.01] #pop out each slice from the pie\n",
    "def getmepie(i):\n",
    "    def absolute_value(val): #turn % back to a number\n",
    "        a  = np.round(val/100.*users.head(i).max().sum(), 0)\n",
    "        return int(a)\n",
    "    ax.clear()\n",
    "    plot = df1.head(i).max().plot.pie(y=df1.columns,autopct=absolute_value, label='',explode = explode, shadow = True)\n",
    "    plot.set_title('Total Number of Deaths\\n' + str(users.index[min( i, len(users.index)-1 )].strftime('%y')), fontsize=12)\n",
    "import matplotlib.animation as ani\n",
    "animator = ani.FuncAnimation(fig, getmepie, interval = 7)\n",
    "plt.show()"
   ]
  },
  {
   "cell_type": "code",
   "execution_count": null,
   "metadata": {},
   "outputs": [],
   "source": []
  }
 ],
 "metadata": {
  "kernelspec": {
   "display_name": "Python 3",
   "language": "python",
   "name": "python3"
  },
  "language_info": {
   "codemirror_mode": {
    "name": "ipython",
    "version": 3
   },
   "file_extension": ".py",
   "mimetype": "text/x-python",
   "name": "python",
   "nbconvert_exporter": "python",
   "pygments_lexer": "ipython3",
   "version": "3.7.6"
  }
 },
 "nbformat": 4,
 "nbformat_minor": 4
}
